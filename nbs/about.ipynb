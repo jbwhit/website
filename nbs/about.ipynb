{
 "cells": [
  {
   "cell_type": "markdown",
   "id": "1ab4beb6-3814-41a8-8525-5e8307986cd2",
   "metadata": {},
   "source": [
    "# About me"
   ]
  },
  {
   "cell_type": "markdown",
   "id": "f9bc1e6b-dff9-49f8-a47a-084fcce9b5ef",
   "metadata": {},
   "source": [
    "Placeholder for now."
   ]
  },
  {
   "cell_type": "code",
   "execution_count": null,
   "id": "e1a27adb-5cd3-4e77-9e3e-83d788b7e289",
   "metadata": {},
   "outputs": [],
   "source": []
  }
 ],
 "metadata": {
  "kernelspec": {
   "display_name": "python3",
   "language": "python",
   "name": "python3"
  }
 },
 "nbformat": 4,
 "nbformat_minor": 5
}
