{
 "cells": [
  {
   "cell_type": "raw",
   "metadata": {},
   "source": [
    "---\n",
    "title: \"[Solved] My Custom Domain keeps reverting on my GitHub Pages site\"\n",
    "description: \"How to fix the issue where a properly set up custom URL reverts when pushing new GitHub commits.\"\n",
    "author: \"Jonathan Whitmore\"\n",
    "date: \"2024-07-11\"\n",
    "categories: [quarto, nbdev, GitHub]\n",
    "format:\n",
    "  html:\n",
    "    code-fold: true\n",
    "---"
   ]
  },
  {
   "cell_type": "markdown",
   "metadata": {},
   "source": [
    "# [Solved] My Custom Domain keeps reverting on my GitHub Pages site\n",
    "\n",
    "## The Setup\n",
    "\n",
    "I used [Quarto](https://quarto.org/) and [nbdev](https://nbdev.fast.ai/) to create my website and a blog on a custom URL.\n",
    "\n",
    "The whole process went rather smoothly. I had my website up and running, and I changed my hosting to point to the right place. My website appeared, and the DNS checks on GitHub's side all passed. I had my website on the custom URL and enforced HTTPS.\n",
    "\n",
    "## The Problem\n",
    "\n",
    "Whenever I made an update to my website, however, my URL broke. The GitHub pages page (github.io/jbwhit/...) worked, but the custom URL (jonathanwhitmore.com) just no longer pointed to the right spot.\n",
    "\n",
    "## The Solution\n",
    "\n",
    "When I first added my Custom Domain, GitHub helpfully created a CNAME (Canonical Name) file in the top level of the repo on the `gh-pages` branch (if that's what you're using, and I was). \n",
    "\n",
    "![CNAME file in GitHub](githubsettings.png)\n",
    "\n",
    "Nbdev, however, uses the `nbs` folder as the top level of the website repo in the main branch. All that I needed to do was to create a CNAME file and place it in the `nbs` folder, and then run `nbdev_prepare` and update as usual. I found that this completely solved the problem that occurred every single time I pushed a commit to github. \n",
    "\n",
    "## Other people with this problem\n",
    "\n",
    "- [Nbdev issue: push to main branch removes custom domain from GitHub Pages settings](https://github.com/fastai/nbdev/issues/1033)"
   ]
  },
  {
   "cell_type": "markdown",
   "metadata": {},
   "source": []
  }
 ],
 "metadata": {},
 "nbformat": 4,
 "nbformat_minor": 2
}
