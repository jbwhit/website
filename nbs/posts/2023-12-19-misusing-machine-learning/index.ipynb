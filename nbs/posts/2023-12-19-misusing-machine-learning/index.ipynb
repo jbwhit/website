{
 "cells": [
  {
   "cell_type": "markdown",
   "id": "d67a7d18-c11e-4d95-b14f-0d1e2eaf9905",
   "metadata": {},
   "source": [
    "---\n",
    "title: \"Misusing Machine Learning\"\n",
    "description: \"Deep dive into what a decision tree is doing.\"\n",
    "author: \"Jonathan Whitmore\"\n",
    "date: \"2023-12-19\"\n",
    "categories: [machine learning]\n",
    "format:\n",
    "  html:\n",
    "    code-fold: true\n",
    "---"
   ]
  },
  {
   "cell_type": "markdown",
   "id": "8fd3a2a3-ddc4-48f9-b934-89245a3222a9",
   "metadata": {},
   "source": [
    "You can use a Decision Tree to compress an image. There are libraries to do this kind of thing properly, but I wanted to see what a Decision Tree \"sees\" when it looks at an image.\n",
    "\n",
    "The training input is each pixel’s x, y position, and the channel number. The target is the value for that pixel and channel. I am not doing a test/train split because I’m not looking to build a model to predict anything, I’m looking to compress something.\n",
    "\n",
    "And it worked. Here’s what it looks like for the black and white image:\n",
    "\n",
    "![Van Gogh's self portrait as seen by a decision tree.](./animated_bw_small.gif){width=50%}\n",
    "\n",
    "And if you want to see a video where I go through a bit more of an explanation check it out here:\n",
    "\n",
    "<iframe width=\"560\" height=\"315\" src=\"https://www.youtube.com/embed/pjmgdC6-lSo?si=Q2dL3G9MxO8Xtdv2\" title=\"YouTube video player\" frameborder=\"0\" allow=\"accelerometer; autoplay; clipboard-write; encrypted-media; gyroscope; picture-in-picture; web-share\" referrerpolicy=\"strict-origin-when-cross-origin\" allowfullscreen></iframe>\n",
    "\n"
   ]
  },
  {
   "cell_type": "code",
   "execution_count": null,
   "id": "e06701c9-e7e1-4fa3-b0f4-8e9b6d1eb97f",
   "metadata": {},
   "outputs": [],
   "source": []
  },
  {
   "cell_type": "code",
   "execution_count": null,
   "id": "d47d16a1-046b-465e-af63-c69987c121de",
   "metadata": {},
   "outputs": [],
   "source": []
  }
 ],
 "metadata": {
  "kernelspec": {
   "display_name": "python3",
   "language": "python",
   "name": "python3"
  }
 },
 "nbformat": 4,
 "nbformat_minor": 5
}
