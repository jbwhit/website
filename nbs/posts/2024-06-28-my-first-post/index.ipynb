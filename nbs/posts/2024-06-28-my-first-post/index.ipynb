{
 "cells": [
  {
   "cell_type": "raw",
   "id": "1936b4e4-a938-4335-b430-48d4b568ae6e",
   "metadata": {},
   "source": [
    "---\n",
    "title: \"My First Blog Post\"\n",
    "description: \"Using nbdev and quarto for this website.\"\n",
    "author: \"Jonathan Whitmore\"\n",
    "date: \"2024-06-28\"\n",
    "categories: [speculative]\n",
    "---"
   ]
  },
  {
   "cell_type": "markdown",
   "id": "0eaa3554-bae6-4001-80ad-56f91fe0490f",
   "metadata": {},
   "source": [
    "My first paragraph. Does this render?"
   ]
  }
 ],
 "metadata": {
  "kernelspec": {
   "display_name": "python3",
   "language": "python",
   "name": "python3"
  }
 },
 "nbformat": 4,
 "nbformat_minor": 5
}
